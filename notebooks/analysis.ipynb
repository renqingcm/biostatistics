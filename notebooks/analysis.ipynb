{
 "cells": [
  {
   "cell_type": "markdown",
   "id": "ebd2bea6",
   "metadata": {},
   "source": [
    "**Data Loading and exploration**\n",
    "\n",
    "First, load the glioma dataset and perform initial exploration:"
   ]
  },
  {
   "cell_type": "code",
   "execution_count": 20,
   "id": "12dbf499",
   "metadata": {},
   "outputs": [
    {
     "name": "stdout",
     "output_type": "stream",
     "text": [
      "(839, 24)\n"
     ]
    },
    {
     "data": {
      "text/html": [
       "<div>\n",
       "<style scoped>\n",
       "    .dataframe tbody tr th:only-of-type {\n",
       "        vertical-align: middle;\n",
       "    }\n",
       "\n",
       "    .dataframe tbody tr th {\n",
       "        vertical-align: top;\n",
       "    }\n",
       "\n",
       "    .dataframe thead th {\n",
       "        text-align: right;\n",
       "    }\n",
       "</style>\n",
       "<table border=\"1\" class=\"dataframe\">\n",
       "  <thead>\n",
       "    <tr style=\"text-align: right;\">\n",
       "      <th></th>\n",
       "      <th>Grade</th>\n",
       "      <th>Gender</th>\n",
       "      <th>Age_at_diagnosis</th>\n",
       "      <th>Race</th>\n",
       "      <th>IDH1</th>\n",
       "      <th>TP53</th>\n",
       "      <th>ATRX</th>\n",
       "      <th>PTEN</th>\n",
       "      <th>EGFR</th>\n",
       "      <th>CIC</th>\n",
       "      <th>...</th>\n",
       "      <th>FUBP1</th>\n",
       "      <th>RB1</th>\n",
       "      <th>NOTCH1</th>\n",
       "      <th>BCOR</th>\n",
       "      <th>CSMD3</th>\n",
       "      <th>SMARCA4</th>\n",
       "      <th>GRIN2A</th>\n",
       "      <th>IDH2</th>\n",
       "      <th>FAT4</th>\n",
       "      <th>PDGFRA</th>\n",
       "    </tr>\n",
       "  </thead>\n",
       "  <tbody>\n",
       "    <tr>\n",
       "      <th>0</th>\n",
       "      <td>0</td>\n",
       "      <td>0</td>\n",
       "      <td>51.30</td>\n",
       "      <td>0</td>\n",
       "      <td>1</td>\n",
       "      <td>0</td>\n",
       "      <td>0</td>\n",
       "      <td>0</td>\n",
       "      <td>0</td>\n",
       "      <td>0</td>\n",
       "      <td>...</td>\n",
       "      <td>1</td>\n",
       "      <td>0</td>\n",
       "      <td>0</td>\n",
       "      <td>0</td>\n",
       "      <td>0</td>\n",
       "      <td>0</td>\n",
       "      <td>0</td>\n",
       "      <td>0</td>\n",
       "      <td>0</td>\n",
       "      <td>0</td>\n",
       "    </tr>\n",
       "    <tr>\n",
       "      <th>1</th>\n",
       "      <td>0</td>\n",
       "      <td>0</td>\n",
       "      <td>38.72</td>\n",
       "      <td>0</td>\n",
       "      <td>1</td>\n",
       "      <td>0</td>\n",
       "      <td>0</td>\n",
       "      <td>0</td>\n",
       "      <td>0</td>\n",
       "      <td>1</td>\n",
       "      <td>...</td>\n",
       "      <td>0</td>\n",
       "      <td>0</td>\n",
       "      <td>0</td>\n",
       "      <td>0</td>\n",
       "      <td>0</td>\n",
       "      <td>0</td>\n",
       "      <td>0</td>\n",
       "      <td>0</td>\n",
       "      <td>0</td>\n",
       "      <td>0</td>\n",
       "    </tr>\n",
       "    <tr>\n",
       "      <th>2</th>\n",
       "      <td>0</td>\n",
       "      <td>0</td>\n",
       "      <td>35.17</td>\n",
       "      <td>0</td>\n",
       "      <td>1</td>\n",
       "      <td>1</td>\n",
       "      <td>1</td>\n",
       "      <td>0</td>\n",
       "      <td>0</td>\n",
       "      <td>0</td>\n",
       "      <td>...</td>\n",
       "      <td>0</td>\n",
       "      <td>0</td>\n",
       "      <td>0</td>\n",
       "      <td>0</td>\n",
       "      <td>0</td>\n",
       "      <td>0</td>\n",
       "      <td>0</td>\n",
       "      <td>0</td>\n",
       "      <td>0</td>\n",
       "      <td>0</td>\n",
       "    </tr>\n",
       "    <tr>\n",
       "      <th>3</th>\n",
       "      <td>0</td>\n",
       "      <td>1</td>\n",
       "      <td>32.78</td>\n",
       "      <td>0</td>\n",
       "      <td>1</td>\n",
       "      <td>1</td>\n",
       "      <td>1</td>\n",
       "      <td>0</td>\n",
       "      <td>0</td>\n",
       "      <td>0</td>\n",
       "      <td>...</td>\n",
       "      <td>0</td>\n",
       "      <td>0</td>\n",
       "      <td>0</td>\n",
       "      <td>0</td>\n",
       "      <td>0</td>\n",
       "      <td>0</td>\n",
       "      <td>0</td>\n",
       "      <td>0</td>\n",
       "      <td>1</td>\n",
       "      <td>0</td>\n",
       "    </tr>\n",
       "    <tr>\n",
       "      <th>4</th>\n",
       "      <td>0</td>\n",
       "      <td>0</td>\n",
       "      <td>31.51</td>\n",
       "      <td>0</td>\n",
       "      <td>1</td>\n",
       "      <td>1</td>\n",
       "      <td>1</td>\n",
       "      <td>0</td>\n",
       "      <td>0</td>\n",
       "      <td>0</td>\n",
       "      <td>...</td>\n",
       "      <td>0</td>\n",
       "      <td>0</td>\n",
       "      <td>0</td>\n",
       "      <td>0</td>\n",
       "      <td>0</td>\n",
       "      <td>0</td>\n",
       "      <td>0</td>\n",
       "      <td>0</td>\n",
       "      <td>0</td>\n",
       "      <td>0</td>\n",
       "    </tr>\n",
       "  </tbody>\n",
       "</table>\n",
       "<p>5 rows × 24 columns</p>\n",
       "</div>"
      ],
      "text/plain": [
       "   Grade  Gender  Age_at_diagnosis  Race  IDH1  TP53  ATRX  PTEN  EGFR  CIC  \\\n",
       "0      0       0             51.30     0     1     0     0     0     0    0   \n",
       "1      0       0             38.72     0     1     0     0     0     0    1   \n",
       "2      0       0             35.17     0     1     1     1     0     0    0   \n",
       "3      0       1             32.78     0     1     1     1     0     0    0   \n",
       "4      0       0             31.51     0     1     1     1     0     0    0   \n",
       "\n",
       "   ...  FUBP1  RB1  NOTCH1  BCOR  CSMD3  SMARCA4  GRIN2A  IDH2  FAT4  PDGFRA  \n",
       "0  ...      1    0       0     0      0        0       0     0     0       0  \n",
       "1  ...      0    0       0     0      0        0       0     0     0       0  \n",
       "2  ...      0    0       0     0      0        0       0     0     0       0  \n",
       "3  ...      0    0       0     0      0        0       0     0     1       0  \n",
       "4  ...      0    0       0     0      0        0       0     0     0       0  \n",
       "\n",
       "[5 rows x 24 columns]"
      ]
     },
     "execution_count": 20,
     "metadata": {},
     "output_type": "execute_result"
    }
   ],
   "source": [
    "import pandas as pd\n",
    "df = pd.read_csv(\"/Users/renqingcuomao/Desktop/glioma-grading-project/data/TCGA_InfoWithGrade.csv\") # load the data into a pandas DataFrame\n",
    "print(df.shape) # how many rows and columns\n",
    "df.head() # display the first few rows of the DataFrame"
   ]
  },
  {
   "cell_type": "code",
   "execution_count": null,
   "id": "f7e01ef6",
   "metadata": {},
   "outputs": [
    {
     "name": "stdout",
     "output_type": "stream",
     "text": [
      "<class 'pandas.core.frame.DataFrame'>\n",
      "RangeIndex: 839 entries, 0 to 838\n",
      "Data columns (total 24 columns):\n",
      " #   Column            Non-Null Count  Dtype  \n",
      "---  ------            --------------  -----  \n",
      " 0   Grade             839 non-null    int64  \n",
      " 1   Gender            839 non-null    int64  \n",
      " 2   Age_at_diagnosis  839 non-null    float64\n",
      " 3   Race              839 non-null    int64  \n",
      " 4   IDH1              839 non-null    int64  \n",
      " 5   TP53              839 non-null    int64  \n",
      " 6   ATRX              839 non-null    int64  \n",
      " 7   PTEN              839 non-null    int64  \n",
      " 8   EGFR              839 non-null    int64  \n",
      " 9   CIC               839 non-null    int64  \n",
      " 10  MUC16             839 non-null    int64  \n",
      " 11  PIK3CA            839 non-null    int64  \n",
      " 12  NF1               839 non-null    int64  \n",
      " 13  PIK3R1            839 non-null    int64  \n",
      " 14  FUBP1             839 non-null    int64  \n",
      " 15  RB1               839 non-null    int64  \n",
      " 16  NOTCH1            839 non-null    int64  \n",
      " 17  BCOR              839 non-null    int64  \n",
      " 18  CSMD3             839 non-null    int64  \n",
      " 19  SMARCA4           839 non-null    int64  \n",
      " 20  GRIN2A            839 non-null    int64  \n",
      " 21  IDH2              839 non-null    int64  \n",
      " 22  FAT4              839 non-null    int64  \n",
      " 23  PDGFRA            839 non-null    int64  \n",
      "dtypes: float64(1), int64(23)\n",
      "memory usage: 157.4 KB\n"
     ]
    }
   ],
   "source": [
    "# 1. feature types\n",
    "df.info()"
   ]
  },
  {
   "cell_type": "code",
   "execution_count": 3,
   "id": "64ba7726",
   "metadata": {},
   "outputs": [
    {
     "data": {
      "text/plain": [
       "array([0, 1])"
      ]
     },
     "execution_count": 3,
     "metadata": {},
     "output_type": "execute_result"
    }
   ],
   "source": [
    "df['Gender'].unique()\n",
    "df['Race'].value_counts()\n",
    "df['Grade'].unique()"
   ]
  },
  {
   "cell_type": "markdown",
   "id": "63a88501",
   "metadata": {},
   "source": [
    "So this double-check means that the categorical features in the dataset (TCGA_InfoWithGrade.csv) have been already encoded as numeric codes, ready for logistic regression or other ML models, and no need for label encoding or one-hot encoding"
   ]
  },
  {
   "cell_type": "code",
   "execution_count": 4,
   "id": "a07d625b",
   "metadata": {},
   "outputs": [
    {
     "data": {
      "text/plain": [
       "Grade               0\n",
       "Gender              0\n",
       "Age_at_diagnosis    0\n",
       "Race                0\n",
       "IDH1                0\n",
       "TP53                0\n",
       "ATRX                0\n",
       "PTEN                0\n",
       "EGFR                0\n",
       "CIC                 0\n",
       "MUC16               0\n",
       "PIK3CA              0\n",
       "NF1                 0\n",
       "PIK3R1              0\n",
       "FUBP1               0\n",
       "RB1                 0\n",
       "NOTCH1              0\n",
       "BCOR                0\n",
       "CSMD3               0\n",
       "SMARCA4             0\n",
       "GRIN2A              0\n",
       "IDH2                0\n",
       "FAT4                0\n",
       "PDGFRA              0\n",
       "dtype: int64"
      ]
     },
     "execution_count": 4,
     "metadata": {},
     "output_type": "execute_result"
    }
   ],
   "source": [
    "# 2. missing values\n",
    "df.isnull().sum()"
   ]
  },
  {
   "cell_type": "code",
   "execution_count": null,
   "id": "3f669ca3",
   "metadata": {},
   "outputs": [
    {
     "data": {
      "text/plain": [
       "Grade\n",
       "0    487\n",
       "1    352\n",
       "Name: count, dtype: int64"
      ]
     },
     "execution_count": 5,
     "metadata": {},
     "output_type": "execute_result"
    }
   ],
   "source": [
    "# 3. class balance (examine the distribution of the target variable (0=LGG, 1=GBM))\n",
    "df['Grade'].value_counts()"
   ]
  },
  {
   "cell_type": "code",
   "execution_count": 6,
   "id": "9e16672a",
   "metadata": {},
   "outputs": [
    {
     "data": {
      "text/html": [
       "<div>\n",
       "<style scoped>\n",
       "    .dataframe tbody tr th:only-of-type {\n",
       "        vertical-align: middle;\n",
       "    }\n",
       "\n",
       "    .dataframe tbody tr th {\n",
       "        vertical-align: top;\n",
       "    }\n",
       "\n",
       "    .dataframe thead th {\n",
       "        text-align: right;\n",
       "    }\n",
       "</style>\n",
       "<table border=\"1\" class=\"dataframe\">\n",
       "  <thead>\n",
       "    <tr style=\"text-align: right;\">\n",
       "      <th></th>\n",
       "      <th>Grade</th>\n",
       "      <th>Gender</th>\n",
       "      <th>Age_at_diagnosis</th>\n",
       "      <th>Race</th>\n",
       "      <th>IDH1</th>\n",
       "      <th>TP53</th>\n",
       "      <th>ATRX</th>\n",
       "      <th>PTEN</th>\n",
       "      <th>EGFR</th>\n",
       "      <th>CIC</th>\n",
       "      <th>...</th>\n",
       "      <th>FUBP1</th>\n",
       "      <th>RB1</th>\n",
       "      <th>NOTCH1</th>\n",
       "      <th>BCOR</th>\n",
       "      <th>CSMD3</th>\n",
       "      <th>SMARCA4</th>\n",
       "      <th>GRIN2A</th>\n",
       "      <th>IDH2</th>\n",
       "      <th>FAT4</th>\n",
       "      <th>PDGFRA</th>\n",
       "    </tr>\n",
       "  </thead>\n",
       "  <tbody>\n",
       "    <tr>\n",
       "      <th>count</th>\n",
       "      <td>839.000000</td>\n",
       "      <td>839.000000</td>\n",
       "      <td>839.000000</td>\n",
       "      <td>839.000000</td>\n",
       "      <td>839.000000</td>\n",
       "      <td>839.000000</td>\n",
       "      <td>839.000000</td>\n",
       "      <td>839.000000</td>\n",
       "      <td>839.000000</td>\n",
       "      <td>839.000000</td>\n",
       "      <td>...</td>\n",
       "      <td>839.000000</td>\n",
       "      <td>839.000000</td>\n",
       "      <td>839.000000</td>\n",
       "      <td>839.000000</td>\n",
       "      <td>839.000000</td>\n",
       "      <td>839.000000</td>\n",
       "      <td>839.000000</td>\n",
       "      <td>839.000000</td>\n",
       "      <td>839.000000</td>\n",
       "      <td>839.000000</td>\n",
       "    </tr>\n",
       "    <tr>\n",
       "      <th>mean</th>\n",
       "      <td>0.419547</td>\n",
       "      <td>0.418355</td>\n",
       "      <td>50.935411</td>\n",
       "      <td>0.107271</td>\n",
       "      <td>0.481526</td>\n",
       "      <td>0.414779</td>\n",
       "      <td>0.258641</td>\n",
       "      <td>0.168057</td>\n",
       "      <td>0.133492</td>\n",
       "      <td>0.132300</td>\n",
       "      <td>...</td>\n",
       "      <td>0.053635</td>\n",
       "      <td>0.047676</td>\n",
       "      <td>0.045292</td>\n",
       "      <td>0.034565</td>\n",
       "      <td>0.032181</td>\n",
       "      <td>0.032181</td>\n",
       "      <td>0.032181</td>\n",
       "      <td>0.027414</td>\n",
       "      <td>0.027414</td>\n",
       "      <td>0.026222</td>\n",
       "    </tr>\n",
       "    <tr>\n",
       "      <th>std</th>\n",
       "      <td>0.493779</td>\n",
       "      <td>0.493583</td>\n",
       "      <td>15.702339</td>\n",
       "      <td>0.369392</td>\n",
       "      <td>0.499957</td>\n",
       "      <td>0.492978</td>\n",
       "      <td>0.438149</td>\n",
       "      <td>0.374140</td>\n",
       "      <td>0.340309</td>\n",
       "      <td>0.339019</td>\n",
       "      <td>...</td>\n",
       "      <td>0.225431</td>\n",
       "      <td>0.213206</td>\n",
       "      <td>0.208068</td>\n",
       "      <td>0.182784</td>\n",
       "      <td>0.176586</td>\n",
       "      <td>0.176586</td>\n",
       "      <td>0.176586</td>\n",
       "      <td>0.163383</td>\n",
       "      <td>0.163383</td>\n",
       "      <td>0.159889</td>\n",
       "    </tr>\n",
       "    <tr>\n",
       "      <th>min</th>\n",
       "      <td>0.000000</td>\n",
       "      <td>0.000000</td>\n",
       "      <td>14.420000</td>\n",
       "      <td>0.000000</td>\n",
       "      <td>0.000000</td>\n",
       "      <td>0.000000</td>\n",
       "      <td>0.000000</td>\n",
       "      <td>0.000000</td>\n",
       "      <td>0.000000</td>\n",
       "      <td>0.000000</td>\n",
       "      <td>...</td>\n",
       "      <td>0.000000</td>\n",
       "      <td>0.000000</td>\n",
       "      <td>0.000000</td>\n",
       "      <td>0.000000</td>\n",
       "      <td>0.000000</td>\n",
       "      <td>0.000000</td>\n",
       "      <td>0.000000</td>\n",
       "      <td>0.000000</td>\n",
       "      <td>0.000000</td>\n",
       "      <td>0.000000</td>\n",
       "    </tr>\n",
       "    <tr>\n",
       "      <th>25%</th>\n",
       "      <td>0.000000</td>\n",
       "      <td>0.000000</td>\n",
       "      <td>38.055000</td>\n",
       "      <td>0.000000</td>\n",
       "      <td>0.000000</td>\n",
       "      <td>0.000000</td>\n",
       "      <td>0.000000</td>\n",
       "      <td>0.000000</td>\n",
       "      <td>0.000000</td>\n",
       "      <td>0.000000</td>\n",
       "      <td>...</td>\n",
       "      <td>0.000000</td>\n",
       "      <td>0.000000</td>\n",
       "      <td>0.000000</td>\n",
       "      <td>0.000000</td>\n",
       "      <td>0.000000</td>\n",
       "      <td>0.000000</td>\n",
       "      <td>0.000000</td>\n",
       "      <td>0.000000</td>\n",
       "      <td>0.000000</td>\n",
       "      <td>0.000000</td>\n",
       "    </tr>\n",
       "    <tr>\n",
       "      <th>50%</th>\n",
       "      <td>0.000000</td>\n",
       "      <td>0.000000</td>\n",
       "      <td>51.550000</td>\n",
       "      <td>0.000000</td>\n",
       "      <td>0.000000</td>\n",
       "      <td>0.000000</td>\n",
       "      <td>0.000000</td>\n",
       "      <td>0.000000</td>\n",
       "      <td>0.000000</td>\n",
       "      <td>0.000000</td>\n",
       "      <td>...</td>\n",
       "      <td>0.000000</td>\n",
       "      <td>0.000000</td>\n",
       "      <td>0.000000</td>\n",
       "      <td>0.000000</td>\n",
       "      <td>0.000000</td>\n",
       "      <td>0.000000</td>\n",
       "      <td>0.000000</td>\n",
       "      <td>0.000000</td>\n",
       "      <td>0.000000</td>\n",
       "      <td>0.000000</td>\n",
       "    </tr>\n",
       "    <tr>\n",
       "      <th>75%</th>\n",
       "      <td>1.000000</td>\n",
       "      <td>1.000000</td>\n",
       "      <td>62.800000</td>\n",
       "      <td>0.000000</td>\n",
       "      <td>1.000000</td>\n",
       "      <td>1.000000</td>\n",
       "      <td>1.000000</td>\n",
       "      <td>0.000000</td>\n",
       "      <td>0.000000</td>\n",
       "      <td>0.000000</td>\n",
       "      <td>...</td>\n",
       "      <td>0.000000</td>\n",
       "      <td>0.000000</td>\n",
       "      <td>0.000000</td>\n",
       "      <td>0.000000</td>\n",
       "      <td>0.000000</td>\n",
       "      <td>0.000000</td>\n",
       "      <td>0.000000</td>\n",
       "      <td>0.000000</td>\n",
       "      <td>0.000000</td>\n",
       "      <td>0.000000</td>\n",
       "    </tr>\n",
       "    <tr>\n",
       "      <th>max</th>\n",
       "      <td>1.000000</td>\n",
       "      <td>1.000000</td>\n",
       "      <td>89.290000</td>\n",
       "      <td>3.000000</td>\n",
       "      <td>1.000000</td>\n",
       "      <td>1.000000</td>\n",
       "      <td>1.000000</td>\n",
       "      <td>1.000000</td>\n",
       "      <td>1.000000</td>\n",
       "      <td>1.000000</td>\n",
       "      <td>...</td>\n",
       "      <td>1.000000</td>\n",
       "      <td>1.000000</td>\n",
       "      <td>1.000000</td>\n",
       "      <td>1.000000</td>\n",
       "      <td>1.000000</td>\n",
       "      <td>1.000000</td>\n",
       "      <td>1.000000</td>\n",
       "      <td>1.000000</td>\n",
       "      <td>1.000000</td>\n",
       "      <td>1.000000</td>\n",
       "    </tr>\n",
       "  </tbody>\n",
       "</table>\n",
       "<p>8 rows × 24 columns</p>\n",
       "</div>"
      ],
      "text/plain": [
       "            Grade      Gender  Age_at_diagnosis        Race        IDH1  \\\n",
       "count  839.000000  839.000000        839.000000  839.000000  839.000000   \n",
       "mean     0.419547    0.418355         50.935411    0.107271    0.481526   \n",
       "std      0.493779    0.493583         15.702339    0.369392    0.499957   \n",
       "min      0.000000    0.000000         14.420000    0.000000    0.000000   \n",
       "25%      0.000000    0.000000         38.055000    0.000000    0.000000   \n",
       "50%      0.000000    0.000000         51.550000    0.000000    0.000000   \n",
       "75%      1.000000    1.000000         62.800000    0.000000    1.000000   \n",
       "max      1.000000    1.000000         89.290000    3.000000    1.000000   \n",
       "\n",
       "             TP53        ATRX        PTEN        EGFR         CIC  ...  \\\n",
       "count  839.000000  839.000000  839.000000  839.000000  839.000000  ...   \n",
       "mean     0.414779    0.258641    0.168057    0.133492    0.132300  ...   \n",
       "std      0.492978    0.438149    0.374140    0.340309    0.339019  ...   \n",
       "min      0.000000    0.000000    0.000000    0.000000    0.000000  ...   \n",
       "25%      0.000000    0.000000    0.000000    0.000000    0.000000  ...   \n",
       "50%      0.000000    0.000000    0.000000    0.000000    0.000000  ...   \n",
       "75%      1.000000    1.000000    0.000000    0.000000    0.000000  ...   \n",
       "max      1.000000    1.000000    1.000000    1.000000    1.000000  ...   \n",
       "\n",
       "            FUBP1         RB1      NOTCH1        BCOR       CSMD3     SMARCA4  \\\n",
       "count  839.000000  839.000000  839.000000  839.000000  839.000000  839.000000   \n",
       "mean     0.053635    0.047676    0.045292    0.034565    0.032181    0.032181   \n",
       "std      0.225431    0.213206    0.208068    0.182784    0.176586    0.176586   \n",
       "min      0.000000    0.000000    0.000000    0.000000    0.000000    0.000000   \n",
       "25%      0.000000    0.000000    0.000000    0.000000    0.000000    0.000000   \n",
       "50%      0.000000    0.000000    0.000000    0.000000    0.000000    0.000000   \n",
       "75%      0.000000    0.000000    0.000000    0.000000    0.000000    0.000000   \n",
       "max      1.000000    1.000000    1.000000    1.000000    1.000000    1.000000   \n",
       "\n",
       "           GRIN2A        IDH2        FAT4      PDGFRA  \n",
       "count  839.000000  839.000000  839.000000  839.000000  \n",
       "mean     0.032181    0.027414    0.027414    0.026222  \n",
       "std      0.176586    0.163383    0.163383    0.159889  \n",
       "min      0.000000    0.000000    0.000000    0.000000  \n",
       "25%      0.000000    0.000000    0.000000    0.000000  \n",
       "50%      0.000000    0.000000    0.000000    0.000000  \n",
       "75%      0.000000    0.000000    0.000000    0.000000  \n",
       "max      1.000000    1.000000    1.000000    1.000000  \n",
       "\n",
       "[8 rows x 24 columns]"
      ]
     },
     "execution_count": 6,
     "metadata": {},
     "output_type": "execute_result"
    }
   ],
   "source": [
    "# 4. basic statistics\n",
    "df.describe()"
   ]
  },
  {
   "cell_type": "code",
   "execution_count": null,
   "id": "60c511b1",
   "metadata": {},
   "outputs": [
    {
     "data": {
      "text/html": [
       "<div>\n",
       "<style scoped>\n",
       "    .dataframe tbody tr th:only-of-type {\n",
       "        vertical-align: middle;\n",
       "    }\n",
       "\n",
       "    .dataframe tbody tr th {\n",
       "        vertical-align: top;\n",
       "    }\n",
       "\n",
       "    .dataframe thead th {\n",
       "        text-align: right;\n",
       "    }\n",
       "</style>\n",
       "<table border=\"1\" class=\"dataframe\">\n",
       "  <thead>\n",
       "    <tr style=\"text-align: right;\">\n",
       "      <th>Grade</th>\n",
       "      <th>0</th>\n",
       "      <th>1</th>\n",
       "    </tr>\n",
       "    <tr>\n",
       "      <th>IDH1</th>\n",
       "      <th></th>\n",
       "      <th></th>\n",
       "    </tr>\n",
       "  </thead>\n",
       "  <tbody>\n",
       "    <tr>\n",
       "      <th>0</th>\n",
       "      <td>106</td>\n",
       "      <td>329</td>\n",
       "    </tr>\n",
       "    <tr>\n",
       "      <th>1</th>\n",
       "      <td>381</td>\n",
       "      <td>23</td>\n",
       "    </tr>\n",
       "  </tbody>\n",
       "</table>\n",
       "</div>"
      ],
      "text/plain": [
       "Grade    0    1\n",
       "IDH1           \n",
       "0      106  329\n",
       "1      381   23"
      ]
     },
     "execution_count": 7,
     "metadata": {},
     "output_type": "execute_result"
    }
   ],
   "source": [
    "# 5. target correlations (q quick check of the relationship between the target variable and some features)\n",
    "pd.crosstab(df['IDH1'], df['Grade'])"
   ]
  },
  {
   "cell_type": "markdown",
   "id": "856eea44",
   "metadata": {},
   "source": [
    "**Data Preprocessing Pipeline**"
   ]
  },
  {
   "cell_type": "markdown",
   "id": "284c9423",
   "metadata": {},
   "source": [
    "Before modeling, se up a preprocessing pipleline to handel data prepration consistently:\n",
    "\n",
    "1. categorical encoding: the preprocessed file (TCGA_InfoWithGrade.csv) encodes Gender and Race as numeric codes, but remember that Race codes 0/1/2/3 are nominal categories (White, Black or African American, Asian, American Indian/Alaska Native), not ordinal. So it's safer to one-hot encode the Race feature so that the model doesn't assume an ordinal relationship beweetn these codes. Gender and Mutation features can be left as 0/1 directly.\n",
    "\n",
    "2. feature scaling: logstic regression is a lineaer model, and it does not require features to be on the same scale for correctness; however, if we use regularization, feature scaling is important so that the penalty is applied evenly across coefficients. The only continuous feature here is Age_at_diagnosis (in years). It’s good practice to standardize this (subtract mean, divide by std) so that age is on a comparable scale to the 0/1 features. This prevents age (with a range of decades) from dominating the gradient updates or regularization just due to scale."
   ]
  },
  {
   "cell_type": "code",
   "execution_count": 28,
   "id": "7e5668c6",
   "metadata": {},
   "outputs": [],
   "source": [
    "from sklearn.compose import make_column_transformer\n",
    "from sklearn.preprocessing import StandardScaler, OneHotEncoder\n",
    "\n",
    "# Define column subsets\n",
    "numeric_features = [\"Age_at_diagnosis\"]\n",
    "onehot_features = [\"Race\"]  # multi-class categorical to one-hot\n",
    "# (Gender and gene mutation features will remain as passed through)\n",
    "\n",
    "preprocessor = make_column_transformer(\n",
    "    (StandardScaler(), numeric_features),\n",
    "    # add handle_unknown='ignore' to avoid errors with unseen categories during transformation\n",
    "    (OneHotEncoder(drop='first', handle_unknown='ignore'), onehot_features),\n",
    "    remainder='passthrough'\n",
    ")"
   ]
  },
  {
   "cell_type": "markdown",
   "id": "a4d769ea",
   "metadata": {},
   "source": [
    "This preporcessor will output a transformered feature matrix where:\n",
    "- Age is replaced by a standardized age.\n",
    "- Race is replaced by three one-hot columns (since drop='first' will drop one category as baseline to avoid multicollinearity)\n",
    "- Gender and other 20 mutation columns are unchanged (0/1 values)"
   ]
  },
  {
   "cell_type": "markdown",
   "id": "485a6e3e",
   "metadata": {},
   "source": [
    "Next, seperate the features and the target:"
   ]
  },
  {
   "cell_type": "code",
   "execution_count": 29,
   "id": "9f65ed13",
   "metadata": {},
   "outputs": [],
   "source": [
    "X = df.drop(\"Grade\", axis=1)\n",
    "y = df[\"Grade\"].values"
   ]
  },
  {
   "cell_type": "code",
   "execution_count": 30,
   "id": "976621eb",
   "metadata": {},
   "outputs": [
    {
     "name": "stdout",
     "output_type": "stream",
     "text": [
      "['standardscaler__Age_at_diagnosis' 'onehotencoder__Race_1'\n",
      " 'onehotencoder__Race_2' 'onehotencoder__Race_3' 'remainder__Gender'\n",
      " 'remainder__IDH1' 'remainder__TP53' 'remainder__ATRX' 'remainder__PTEN'\n",
      " 'remainder__EGFR' 'remainder__CIC' 'remainder__MUC16' 'remainder__PIK3CA'\n",
      " 'remainder__NF1' 'remainder__PIK3R1' 'remainder__FUBP1' 'remainder__RB1'\n",
      " 'remainder__NOTCH1' 'remainder__BCOR' 'remainder__CSMD3'\n",
      " 'remainder__SMARCA4' 'remainder__GRIN2A' 'remainder__IDH2'\n",
      " 'remainder__FAT4' 'remainder__PDGFRA']\n"
     ]
    }
   ],
   "source": [
    "# Fit the preprocessor on the data to obtain feature names\n",
    "preprocessor.fit(X)\n",
    "feature_names = preprocessor.get_feature_names_out()\n",
    "print(feature_names)"
   ]
  },
  {
   "cell_type": "markdown",
   "id": "00ad90e1",
   "metadata": {},
   "source": [
    "This lists the new feature names including the one-hot encoded race dummy columns (eg., Race_1, Race_2, Race_3 for the three non-baseline race categories) and all other original features. This is useful later when interpreting coefficients.\n",
    "\n",
    "**Important:** we have no missing values and all features are already numeric after encoding, so we don't need imputation and complex scaling for binary features, the pipeline above is sufficient, and now we move on to modeling."
   ]
  },
  {
   "cell_type": "markdown",
   "id": "cf4169f7",
   "metadata": {},
   "source": [
    "**Logistic Regression Modeling**\n",
    "\n",
    "Logstic Regression will be our primary model to classify glioma grade (LGG vs GBM). We will run experiments with both unregualried and regularied logistic regression to **compare performance and interpretability**. We will also use cross-validation for robust evaluation, as recommended (the dataset suggests using 10-fold cross-validation for calssification tasks)"
   ]
  },
  {
   "cell_type": "markdown",
   "id": "708a423c",
   "metadata": {},
   "source": [
    "* Baseline Logstic Regression (without regularization)\n",
    "\n",
    "First, consider logistic regression without any regularization(penalty). This focuses on fitting the data as closely as possible and will give a sense of maximum performance and the raw coefficients.\n",
    "\n",
    "In scikit-learn, by default, logisticRegression includes an L2 penalty. We can disablle reguarizaition by setting `penalty='none'`. Alternatively, one can use a very large C value to approximate no regularization (since C is the inverse of regularization strength). Here, we will explicitly set no penalty."
   ]
  },
  {
   "cell_type": "code",
   "execution_count": 31,
   "id": "88d82284",
   "metadata": {},
   "outputs": [],
   "source": [
    "from sklearn.linear_model import LogisticRegression\n",
    "from sklearn.pipeline import Pipeline\n",
    "\n",
    "# Logistic regression with no regularization\n",
    "logreg_no_reg = LogisticRegression(penalty=None, solver='lbfgs', max_iter=1000)\n",
    "\n",
    "pipeline_no_reg = Pipeline([\n",
    "    ('prep', preprocessor),\n",
    "    ('clf', logreg_no_reg)\n",
    "])"
   ]
  },
  {
   "cell_type": "markdown",
   "id": "e650180d",
   "metadata": {},
   "source": [
    "Now, evaluate this model with cross-validation. We’ll do a stratified 10-fold CV:"
   ]
  },
  {
   "cell_type": "code",
   "execution_count": 32,
   "id": "6b7d711f",
   "metadata": {},
   "outputs": [
    {
     "name": "stderr",
     "output_type": "stream",
     "text": [
      "/Users/renqingcuomao/Desktop/glioma-grading-project/appliedbio_venv/lib/python3.10/site-packages/sklearn/preprocessing/_encoders.py:246: UserWarning: Found unknown categories in columns [0] during transform. These unknown categories will be encoded as all zeros\n",
      "  warnings.warn(\n",
      "/Users/renqingcuomao/Desktop/glioma-grading-project/appliedbio_venv/lib/python3.10/site-packages/sklearn/preprocessing/_encoders.py:246: UserWarning: Found unknown categories in columns [0] during transform. These unknown categories will be encoded as all zeros\n",
      "  warnings.warn(\n"
     ]
    },
    {
     "name": "stdout",
     "output_type": "stream",
     "text": [
      "Accuracy (10-fold CV) = 0.869 ± 0.029\n",
      "Precision (CV mean) = 0.816\n",
      "Recall (CV mean)    = 0.895\n",
      "AUC (CV mean)       = 0.918\n"
     ]
    },
    {
     "name": "stderr",
     "output_type": "stream",
     "text": [
      "/Users/renqingcuomao/Desktop/glioma-grading-project/appliedbio_venv/lib/python3.10/site-packages/sklearn/preprocessing/_encoders.py:246: UserWarning: Found unknown categories in columns [0] during transform. These unknown categories will be encoded as all zeros\n",
      "  warnings.warn(\n",
      "/Users/renqingcuomao/Desktop/glioma-grading-project/appliedbio_venv/lib/python3.10/site-packages/sklearn/preprocessing/_encoders.py:246: UserWarning: Found unknown categories in columns [0] during transform. These unknown categories will be encoded as all zeros\n",
      "  warnings.warn(\n"
     ]
    }
   ],
   "source": [
    "from sklearn.model_selection import cross_val_score, StratifiedKFold\n",
    "from sklearn.metrics import accuracy_score, precision_score, recall_score, roc_auc_score\n",
    "\n",
    "cv = StratifiedKFold(n_splits=10, shuffle=True, random_state=42)\n",
    "\n",
    "# Accuracy via cross_val_score as an example\n",
    "acc_scores = cross_val_score(pipeline_no_reg, X, y, cv=cv, scoring='accuracy')\n",
    "print(f\"Accuracy (10-fold CV) = {acc_scores.mean():.3f} ± {acc_scores.std():.3f}\")\n",
    "\n",
    "# We can also compute other metrics using cross_val_score or cross_val_predict\n",
    "prec_scores = cross_val_score(pipeline_no_reg, X, y, cv=cv, scoring='precision')\n",
    "rec_scores = cross_val_score(pipeline_no_reg, X, y, cv=cv, scoring='recall')\n",
    "auc_scores  = cross_val_score(pipeline_no_reg, X, y, cv=cv, scoring='roc_auc')\n",
    "print(f\"Precision (CV mean) = {prec_scores.mean():.3f}\")\n",
    "print(f\"Recall (CV mean)    = {rec_scores.mean():.3f}\")\n",
    "print(f\"AUC (CV mean)       = {auc_scores.mean():.3f}\")"
   ]
  },
  {
   "cell_type": "markdown",
   "id": "14e0bf9b",
   "metadata": {},
   "source": [
    "* Regularized Logistic Regression (L2 and L1 Penalties)\n",
    "\n",
    "Regularization can improve generalization and also help interpret which features are truly important by shrinking less useful coefficients:\n",
    "\n",
    "**L2 (Ridge) regularization**: Adds a penalty proportional to the square of coefficients. This tends to shrink coefficients towards zero but rarely exactly zero. It’s useful to avoid overfitting, especially when many features might be only weakly predictive. We’ll use the default penalty='l2' (which is scikit-learn’s default) for a comparison model.\n",
    "\n",
    "**L1 (Lasso) regularization**: Adds a penalty proportional to the absolute value of coefficients. This can force some coefficients to become exactly zero, effectively performing feature selection. Logistic regression with L1 is a way to select a sparse set of features that matter most. In scikit-learn, use penalty='l1' with a solver that supports it (e.g., liblinear or saga).\n",
    "\n",
    "We’ll create pipelines for both and compare. We should also consider tuning the regularization strength C (the inverse of penalty term λ). A smaller C means stronger regularization. We might try a reasonable default like C=1.0 first, and later we could tune C via cross-validation if needed."
   ]
  },
  {
   "cell_type": "code",
   "execution_count": 33,
   "id": "3b7c55dd",
   "metadata": {},
   "outputs": [],
   "source": [
    "# L2-regularized logistic regression\n",
    "logreg_l2 = LogisticRegression(penalty='l2', solver='lbfgs', max_iter=1000)\n",
    "pipeline_l2 = Pipeline([\n",
    "    ('prep', preprocessor),\n",
    "    ('clf', logreg_l2)\n",
    "])\n",
    "\n",
    "# L1-regularized logistic regression\n",
    "logreg_l1 = LogisticRegression(penalty='l1', solver='liblinear', max_iter=1000)\n",
    "pipeline_l1 = Pipeline([\n",
    "    ('prep', preprocessor),\n",
    "    ('clf', logreg_l1)\n",
    "])"
   ]
  },
  {
   "cell_type": "markdown",
   "id": "ea3cd8e0",
   "metadata": {},
   "source": [
    "Now evaluate with cross-validation similarly:"
   ]
  },
  {
   "cell_type": "code",
   "execution_count": 34,
   "id": "72b234cd",
   "metadata": {},
   "outputs": [
    {
     "name": "stdout",
     "output_type": "stream",
     "text": [
      "L2-regularized Logistic Regression:\n",
      "Accuracy (CV): 0.8700803212851405\n",
      "AUC (CV): 0.9199311966850232\n",
      "L1-regularized Logistic Regression:\n"
     ]
    },
    {
     "name": "stderr",
     "output_type": "stream",
     "text": [
      "/Users/renqingcuomao/Desktop/glioma-grading-project/appliedbio_venv/lib/python3.10/site-packages/sklearn/preprocessing/_encoders.py:246: UserWarning: Found unknown categories in columns [0] during transform. These unknown categories will be encoded as all zeros\n",
      "  warnings.warn(\n",
      "/Users/renqingcuomao/Desktop/glioma-grading-project/appliedbio_venv/lib/python3.10/site-packages/sklearn/preprocessing/_encoders.py:246: UserWarning: Found unknown categories in columns [0] during transform. These unknown categories will be encoded as all zeros\n",
      "  warnings.warn(\n",
      "/Users/renqingcuomao/Desktop/glioma-grading-project/appliedbio_venv/lib/python3.10/site-packages/sklearn/preprocessing/_encoders.py:246: UserWarning: Found unknown categories in columns [0] during transform. These unknown categories will be encoded as all zeros\n",
      "  warnings.warn(\n"
     ]
    },
    {
     "name": "stdout",
     "output_type": "stream",
     "text": [
      "Accuracy (CV): 0.8736660929432013\n",
      "AUC (CV): 0.9206804070834682\n"
     ]
    },
    {
     "name": "stderr",
     "output_type": "stream",
     "text": [
      "/Users/renqingcuomao/Desktop/glioma-grading-project/appliedbio_venv/lib/python3.10/site-packages/sklearn/preprocessing/_encoders.py:246: UserWarning: Found unknown categories in columns [0] during transform. These unknown categories will be encoded as all zeros\n",
      "  warnings.warn(\n"
     ]
    }
   ],
   "source": [
    "print(\"L2-regularized Logistic Regression:\")\n",
    "print(\"Accuracy (CV):\", cross_val_score(pipeline_l2, X, y, cv=cv, scoring='accuracy').mean())\n",
    "print(\"AUC (CV):\", cross_val_score(pipeline_l2, X, y, cv=cv, scoring='roc_auc').mean())\n",
    "\n",
    "print(\"L1-regularized Logistic Regression:\")\n",
    "print(\"Accuracy (CV):\", cross_val_score(pipeline_l1, X, y, cv=cv, scoring='accuracy').mean())\n",
    "print(\"AUC (CV):\", cross_val_score(pipeline_l1, X, y, cv=cv, scoring='roc_auc').mean())"
   ]
  },
  {
   "cell_type": "code",
   "execution_count": 35,
   "id": "5bea0cec",
   "metadata": {},
   "outputs": [
    {
     "name": "stdout",
     "output_type": "stream",
     "text": [
      "                             feature      coef\n",
      "5                    remainder__IDH1 -3.732278\n",
      "17                 remainder__NOTCH1 -2.551294\n",
      "22                   remainder__IDH2 -2.530551\n",
      "21                 remainder__GRIN2A  1.133977\n",
      "6                    remainder__TP53  0.979267\n",
      "14                 remainder__PIK3R1  0.844023\n",
      "13                    remainder__NF1 -0.758734\n",
      "10                    remainder__CIC -0.625008\n",
      "0   standardscaler__Age_at_diagnosis  0.624846\n",
      "8                    remainder__PTEN  0.620400\n",
      "Non-zero coefficients: 19 out of 25\n"
     ]
    }
   ],
   "source": [
    "pipeline_l1.fit(X, y)  # fit on entire data\n",
    "# Get coefficients from the inner logistic model\n",
    "coeffs = pipeline_l1.named_steps['clf'].coef_[0]\n",
    "feature_names = pipeline_l1.named_steps['prep'].get_feature_names_out()\n",
    "# Pair each feature name with its coefficient\n",
    "coef_df = pd.DataFrame({\n",
    "    \"feature\": feature_names,\n",
    "    \"coef\": coeffs\n",
    "}).sort_values(\"coef\", key=abs, ascending=False)\n",
    "print(coef_df.head(10))\n",
    "print(\"Non-zero coefficients:\", (coeffs != 0).sum(), \"out of\", len(coeffs))"
   ]
  },
  {
   "cell_type": "markdown",
   "id": "f8c290b8",
   "metadata": {},
   "source": [
    "**Feature Selection Techniques**"
   ]
  },
  {
   "cell_type": "code",
   "execution_count": 37,
   "id": "edabe320",
   "metadata": {},
   "outputs": [
    {
     "name": "stdout",
     "output_type": "stream",
     "text": [
      "0.0\n",
      "Top 5 features by chi-squared: ['remainder__Age_at_diagnosis' 'remainder__IDH1' 'remainder__ATRX'\n",
      " 'remainder__PTEN' 'remainder__CIC']\n"
     ]
    }
   ],
   "source": [
    "from sklearn.compose import make_column_transformer\n",
    "from sklearn.preprocessing import OneHotEncoder\n",
    "from sklearn.feature_selection import SelectKBest, chi2\n",
    "\n",
    "onehot_features = [\"Race\"]\n",
    "\n",
    "preprocessor_chi2 = make_column_transformer(\n",
    "    (OneHotEncoder(drop='first', handle_unknown='ignore'), onehot_features),\n",
    "    remainder='passthrough'  # Gender, Age, gene mutations remain\n",
    ")\n",
    "\n",
    "# Apply preprocessing\n",
    "X_chi2 = preprocessor_chi2.fit_transform(X)\n",
    "\n",
    "# chi2 requires all features to be non-negative, so Age must be ≥ 0\n",
    "# Confirm there's no negative value\n",
    "import numpy as np\n",
    "print(np.min(X_chi2))  # should be ≥ 0\n",
    "\n",
    "# Select top 5 features\n",
    "selector = SelectKBest(chi2, k=5)\n",
    "selector.fit(X_chi2, y)\n",
    "\n",
    "# Get top feature names\n",
    "feature_names = preprocessor_chi2.get_feature_names_out()\n",
    "top_indices = selector.get_support(indices=True)\n",
    "top_features = feature_names[top_indices]\n",
    "print(\"Top 5 features by chi-squared:\", top_features)"
   ]
  },
  {
   "cell_type": "code",
   "execution_count": 38,
   "id": "d7cd6b80",
   "metadata": {},
   "outputs": [
    {
     "name": "stdout",
     "output_type": "stream",
     "text": [
      "Optimal number of features: 23\n",
      "Selected features: ['standardscaler__Age_at_diagnosis' 'onehotencoder__Race_1'\n",
      " 'onehotencoder__Race_2' 'onehotencoder__Race_3' 'remainder__Gender'\n",
      " 'remainder__IDH1' 'remainder__TP53' 'remainder__PTEN' 'remainder__EGFR'\n",
      " 'remainder__CIC' 'remainder__MUC16' 'remainder__PIK3CA' 'remainder__NF1'\n",
      " 'remainder__PIK3R1' 'remainder__FUBP1' 'remainder__RB1'\n",
      " 'remainder__NOTCH1' 'remainder__CSMD3' 'remainder__SMARCA4'\n",
      " 'remainder__GRIN2A' 'remainder__IDH2' 'remainder__FAT4'\n",
      " 'remainder__PDGFRA']\n"
     ]
    }
   ],
   "source": [
    "from sklearn.feature_selection import RFECV\n",
    "\n",
    "# Use logistic regression with L2 penalty for stability in RFE\n",
    "rfe_estimator = LogisticRegression(penalty='l2', solver='lbfgs', max_iter=1000)\n",
    "rfecv = RFECV(estimator=rfe_estimator, cv=5, scoring='accuracy', n_jobs=-1)\n",
    "X_prepped = preprocessor.fit_transform(X)  # get numpy array of features\n",
    "rfecv.fit(X_prepped, y)\n",
    "print(\"Optimal number of features:\", rfecv.n_features_)\n",
    "sel_indices = rfecv.support_  # boolean mask of selected features\n",
    "print(\"Selected features:\", preprocessor.get_feature_names_out()[sel_indices])"
   ]
  },
  {
   "cell_type": "code",
   "execution_count": 39,
   "id": "bed3f060",
   "metadata": {},
   "outputs": [],
   "source": [
    "# Suppose rfecv.support_ gives mask of selected features\n",
    "selected_cols = preprocessor.get_feature_names_out()[rfecv.support_]\n",
    "# We can construct a smaller preprocessor that only uses these columns:\n",
    "# (One way: make a dataframe with selected columns from X_prepped, but easier is to modify pipeline)"
   ]
  },
  {
   "cell_type": "markdown",
   "id": "831483da",
   "metadata": {},
   "source": [
    "**Model evaluation and validation**"
   ]
  },
  {
   "cell_type": "code",
   "execution_count": 40,
   "id": "11d587cd",
   "metadata": {},
   "outputs": [
    {
     "name": "stdout",
     "output_type": "stream",
     "text": [
      "Confusion Matrix:\n",
      " [[414  73]\n",
      " [ 37 315]]\n"
     ]
    },
    {
     "name": "stderr",
     "output_type": "stream",
     "text": [
      "/Users/renqingcuomao/Desktop/glioma-grading-project/appliedbio_venv/lib/python3.10/site-packages/sklearn/preprocessing/_encoders.py:246: UserWarning: Found unknown categories in columns [0] during transform. These unknown categories will be encoded as all zeros\n",
      "  warnings.warn(\n"
     ]
    }
   ],
   "source": [
    "from sklearn.model_selection import cross_val_predict\n",
    "from sklearn.metrics import confusion_matrix\n",
    "\n",
    "y_pred_cv = cross_val_predict(pipeline_no_reg, X, y, cv=cv)\n",
    "cm = confusion_matrix(y, y_pred_cv, labels=[0, 1])\n",
    "print(\"Confusion Matrix:\\n\", cm)"
   ]
  },
  {
   "cell_type": "code",
   "execution_count": 47,
   "id": "ff149f35",
   "metadata": {},
   "outputs": [
    {
     "data": {
      "image/png": "[encoded data removed]",
      "text/plain": [
       "<Figure size 640x480 with 2 Axes>"
      ]
     },
     "metadata": {},
     "output_type": "display_data"
    },
    {
     "data": {
      "text/plain": [
       "<Figure size 640x480 with 0 Axes>"
      ]
     },
     "metadata": {},
     "output_type": "display_data"
    }
   ],
   "source": [
    "import seaborn as sns\n",
    "import matplotlib.pyplot as plt\n",
    "\n",
    "sns.heatmap(cm, annot=True, fmt='d', cmap='Blues', \n",
    "            xticklabels=[\"Predicted LGG\",\"Predicted GBM\"],\n",
    "            yticklabels=[\"Actual LGG\",\"Actual GBM\"])\n",
    "plt.title(\"Confusion Matrix (Logistic Regression, 10-fold CV)\")\n",
    "plt.show()\n",
    "plt.savefig(\"confusion.pdf\") \n"
   ]
  },
  {
   "cell_type": "code",
   "execution_count": 45,
   "id": "8a05f40d",
   "metadata": {},
   "outputs": [
    {
     "name": "stderr",
     "output_type": "stream",
     "text": [
      "/Users/renqingcuomao/Desktop/glioma-grading-project/appliedbio_venv/lib/python3.10/site-packages/sklearn/preprocessing/_encoders.py:246: UserWarning: Found unknown categories in columns [0] during transform. These unknown categories will be encoded as all zeros\n",
      "  warnings.warn(\n"
     ]
    },
    {
     "data": {
      "image/png": "[encoded data removed]",
      "text/plain": [
       "<Figure size 640x480 with 1 Axes>"
      ]
     },
     "metadata": {},
     "output_type": "display_data"
    },
    {
     "data": {
      "text/plain": [
       "<Figure size 640x480 with 0 Axes>"
      ]
     },
     "metadata": {},
     "output_type": "display_data"
    }
   ],
   "source": [
    "from sklearn.metrics import roc_curve, auc\n",
    "\n",
    "y_prob_cv = cross_val_predict(pipeline_no_reg, X, y, cv=cv, method=\"predict_proba\")[:,1]\n",
    "fpr, tpr, thresholds = roc_curve(y, y_prob_cv)\n",
    "roc_auc = auc(fpr, tpr)\n",
    "\n",
    "plt.figure()\n",
    "plt.plot(fpr, tpr, label=f\"Logistic (AUC = {roc_auc:.2f})\")\n",
    "plt.plot([0,1],[0,1],'--', color='grey', label=\"Random Guess\")\n",
    "plt.xlabel(\"False Positive Rate\")\n",
    "plt.ylabel(\"True Positive Rate (Recall)\")\n",
    "plt.title(\"ROC Curve – Logistic Regression\")\n",
    "plt.legend()\n",
    "plt.show()\n",
    "plt.savefig(\"roc.pdf\") \n"
   ]
  },
  {
   "cell_type": "code",
   "execution_count": null,
   "id": "8bd88fae",
   "metadata": {},
   "outputs": [],
   "source": []
  }
 ],
 "metadata": {
  "kernelspec": {
   "display_name": "appliedbio_venv",
   "language": "python",
   "name": "python3"
  },
  "language_info": {
   "codemirror_mode": {
    "name": "ipython",
    "version": 3
   },
   "file_extension": ".py",
   "mimetype": "text/x-python",
   "name": "python",
   "nbconvert_exporter": "python",
   "pygments_lexer": "ipython3",
   "version": "3.10.9"
  }
 },
 "nbformat": 4,
 "nbformat_minor": 5
}
